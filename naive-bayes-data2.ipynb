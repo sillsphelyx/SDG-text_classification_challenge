{
 "cells": [
  {
   "cell_type": "code",
   "execution_count": 1,
   "metadata": {
    "collapsed": true
   },
   "outputs": [],
   "source": [
    "import sys\n",
    "from sklearn.feature_extraction.text import TfidfVectorizer\n",
    "from sklearn.linear_model import Perceptron\n",
    "from sklearn.pipeline import Pipeline\n",
    "from sklearn.datasets import load_files\n",
    "from sklearn.model_selection import train_test_split\n",
    "from sklearn import metrics\n",
    "from sklearn.naive_bayes import MultinomialNB\n",
    "import re\n",
    "import numpy as np\n",
    "import pandas as pd"
   ]
  },
  {
   "cell_type": "code",
   "execution_count": 65,
   "metadata": {
    "collapsed": true
   },
   "outputs": [],
   "source": [
    "train_data = pd.read_csv(\"../data/train_full_3k.csv\")\n",
    "language_code = {'afr':1, 'nbl':2, 'nso':3, 'sot':4, 'ssw':5, 'tso':6, 'tsn':7, 'ven': 8, 'xho':9,\n",
    "'zul':10, 'eng':11}\n",
    "train_data[\"lang_id\"] = train_data[\"lang_id\"].map(language_code).astype(int)\n",
    "code = dict((v,k) for k,v in language_code.items())"
   ]
  },
  {
   "cell_type": "code",
   "execution_count": 71,
   "metadata": {
    "collapsed": true
   },
   "outputs": [],
   "source": [
    "def clean_text(input_text):\n",
    "    text = input_text.lower()\n",
    "    #punc_to_remove = text.replace('-', '') + '0123456789'\n",
    "    text = replace_numbers.sub('', text)\n",
    "\n",
    "    text = text.replace('ã…â¡', 'š')\n",
    "    text = text.replace('ï¿½', '')\n",
    "    text = text.replace('ª', '')\n",
    "\n",
    "    text = text.rstrip('\"')\n",
    "    text = text.lstrip(' \"')\n",
    "\n",
    "    # All special characters are kept.\n",
    "    return text"
   ]
  },
  {
   "cell_type": "code",
   "execution_count": 50,
   "metadata": {
    "collapsed": true
   },
   "outputs": [],
   "source": [
    "docs_train, docs_test, y_train, y_test = train_test_split(\n",
    "train_data[\" text\"], train_data[\"lang_id\"], test_size=0.2)"
   ]
  },
  {
   "cell_type": "code",
   "execution_count": 72,
   "metadata": {
    "collapsed": true
   },
   "outputs": [],
   "source": [
    "# Split the dataset in training and test set:\n",
    "#docs_train, docs_valid, y_train, y_t = train_test_split(dataset.data, dataset.target, test_size=0.5)\n",
    "\n",
    "docs_train = [clean_text(text) for text in docs_train]\n",
    "docs_test = [clean_text(text) for text in docs_test]\n",
    "#docs_train, docs_valid = train_dataset.data, validation_dataset.data\n",
    "#y_train, y_valid = train_dataset.target, validation_dataset.target"
   ]
  },
  {
   "cell_type": "code",
   "execution_count": 53,
   "metadata": {
    "collapsed": false
   },
   "outputs": [
    {
     "data": {
      "text/plain": [
       "Pipeline(memory=None,\n",
       "     steps=[('vectorizer', TfidfVectorizer(analyzer='char', binary=False, decode_error='strict',\n",
       "        dtype=<class 'numpy.int64'>, encoding='utf-8', input='content',\n",
       "        lowercase=True, max_df=1.0, max_features=None, min_df=1,\n",
       "        ngram_range=(1, 6), norm='l2', preprocessor=None, smooth_idf=Tr...rue,\n",
       "        vocabulary=None)), ('clf', MultinomialNB(alpha=1.0, class_prior=None, fit_prior=True))])"
      ]
     },
     "execution_count": 53,
     "metadata": {},
     "output_type": "execute_result"
    }
   ],
   "source": [
    "vectorizer = TfidfVectorizer(ngram_range=(1, 6),\n",
    "                             analyzer='char',)\n",
    "\n",
    "pipe = Pipeline([\n",
    "    ('vectorizer', vectorizer),\n",
    "    ('clf', MultinomialNB())\n",
    "])\n",
    "\n",
    "pipe.fit(docs_train, y_train)"
   ]
  },
  {
   "cell_type": "code",
   "execution_count": 54,
   "metadata": {
    "collapsed": true
   },
   "outputs": [],
   "source": [
    "y_predicted = pipe.predict(docs_test)"
   ]
  },
  {
   "cell_type": "code",
   "execution_count": 69,
   "metadata": {
    "collapsed": false
   },
   "outputs": [
    {
     "name": "stdout",
     "output_type": "stream",
     "text": [
      "Ndzi khense ngopfu ----> tso\n"
     ]
    }
   ],
   "source": [
    "sentences = ['Ndzi khense ngopfu']\n",
    "cleaned_sentence = [cleanup_text(text) for text in sentences]\n",
    "predicted_languages = pipe.predict(cleaned_sentence)\n",
    "for sentence, lang in zip(sentences, predicted_languages):\n",
    "    print(u'{} ----> {}'.format(sentence, code[lang]))\n",
    "\n"
   ]
  },
  {
   "cell_type": "code",
   "execution_count": 87,
   "metadata": {
    "collapsed": true
   },
   "outputs": [],
   "source": [
    "# read in csv file\n",
    "def generate_output(input_path, output_path):\n",
    "    \"\"\"\n",
    "    Generate required output file\n",
    "    \"\"\"\n",
    "    outside_test = pd.read_csv(input_path)\n",
    "    test_text = outside_test[\"Text\"]\n",
    "    test_text = [clean_text(text) for text in test_text]\n",
    "    predictions = pipe.predict(test_text)\n",
    "    ids = outside_test[\"ID\"].values\n",
    "    df = pd.DataFrame(\n",
    "                  {\"ID\" : ids,\n",
    "                   \"Class\" : predictions})\n",
    "    df.to_csv(output_path, index=None)"
   ]
  },
  {
   "cell_type": "code",
   "execution_count": 88,
   "metadata": {
    "collapsed": true
   },
   "outputs": [],
   "source": [
    "generate_output(\"../data/sample_input.csv\",\"../language_output/test_output.csv\")"
   ]
  },
  {
   "cell_type": "code",
   "execution_count": 57,
   "metadata": {
    "collapsed": false
   },
   "outputs": [
    {
     "name": "stdout",
     "output_type": "stream",
     "text": [
      "             precision    recall  f1-score   support\n",
      "\n",
      "        afr    1.00000   1.00000   1.00000       613\n",
      "        nbl    0.99835   1.00000   0.99918       606\n",
      "        nso    1.00000   0.99838   0.99919       617\n",
      "        sot    1.00000   1.00000   1.00000       577\n",
      "        ssw    1.00000   1.00000   1.00000       549\n",
      "        tso    1.00000   1.00000   1.00000       598\n",
      "        tsn    0.99844   1.00000   0.99922       641\n",
      "        ven    1.00000   1.00000   1.00000       590\n",
      "        xho    0.99834   0.99834   0.99834       603\n",
      "        zul    1.00000   0.99842   0.99921       632\n",
      "        eng    0.99826   0.99826   0.99826       574\n",
      "\n",
      "avg / total    0.99939   0.99939   0.99939      6600\n",
      "\n"
     ]
    }
   ],
   "source": [
    "print(metrics.classification_report(y_test, y_predicted,\n",
    "                                    target_names=language_code.keys(),\n",
    "                                     digits=5      ))"
   ]
  },
  {
   "cell_type": "code",
   "execution_count": 103,
   "metadata": {
    "collapsed": true
   },
   "outputs": [],
   "source": [
    "cm = metrics.confusion_matrix(y_test, y_predicted)"
   ]
  },
  {
   "cell_type": "code",
   "execution_count": 104,
   "metadata": {
    "collapsed": false
   },
   "outputs": [
    {
     "data": {
      "text/plain": [
       "array([[613,   0,   0,   0,   0,   0,   0,   0,   0,   0,   0],\n",
       "       [  0, 606,   0,   0,   0,   0,   0,   0,   0,   0,   0],\n",
       "       [  0,   0, 616,   0,   0,   0,   1,   0,   0,   0,   0],\n",
       "       [  0,   0,   0, 577,   0,   0,   0,   0,   0,   0,   0],\n",
       "       [  0,   0,   0,   0, 549,   0,   0,   0,   0,   0,   0],\n",
       "       [  0,   0,   0,   0,   0, 598,   0,   0,   0,   0,   0],\n",
       "       [  0,   0,   0,   0,   0,   0, 641,   0,   0,   0,   0],\n",
       "       [  0,   0,   0,   0,   0,   0,   0, 590,   0,   0,   0],\n",
       "       [  0,   0,   0,   0,   0,   0,   0,   0, 602,   0,   1],\n",
       "       [  0,   1,   0,   0,   0,   0,   0,   0,   0, 631,   0],\n",
       "       [  0,   0,   0,   0,   0,   0,   0,   0,   1,   0, 573]])"
      ]
     },
     "execution_count": 104,
     "metadata": {},
     "output_type": "execute_result"
    }
   ],
   "source": [
    "cm"
   ]
  },
  {
   "cell_type": "code",
   "execution_count": 106,
   "metadata": {
    "collapsed": true
   },
   "outputs": [],
   "source": [
    "metrics.confusion_matrix??"
   ]
  },
  {
   "cell_type": "code",
   "execution_count": 100,
   "metadata": {
    "collapsed": false
   },
   "outputs": [
    {
     "data": {
      "text/plain": [
       "dict_keys(['afr', 'nbl', 'nso', 'sot', 'ssw', 'tso', 'tsn', 'ven', 'xho', 'zul', 'eng'])"
      ]
     },
     "execution_count": 100,
     "metadata": {},
     "output_type": "execute_result"
    }
   ],
   "source": [
    "language_code.keys()"
   ]
  },
  {
   "cell_type": "code",
   "execution_count": null,
   "metadata": {
    "collapsed": true
   },
   "outputs": [],
   "source": []
  }
 ],
 "metadata": {
  "kernelspec": {
   "display_name": "Python [conda root]",
   "language": "python",
   "name": "conda-root-py"
  },
  "language_info": {
   "codemirror_mode": {
    "name": "ipython",
    "version": 3
   },
   "file_extension": ".py",
   "mimetype": "text/x-python",
   "name": "python",
   "nbconvert_exporter": "python",
   "pygments_lexer": "ipython3",
   "version": "3.5.2"
  }
 },
 "nbformat": 4,
 "nbformat_minor": 2
}
